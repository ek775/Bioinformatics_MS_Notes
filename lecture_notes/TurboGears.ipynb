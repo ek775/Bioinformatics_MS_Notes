{
 "cells": [
  {
   "cell_type": "markdown",
   "id": "ea0f50ca-0d46-447c-a155-9e786de4d643",
   "metadata": {},
   "source": [
    "# TurboGears"
   ]
  },
  {
   "cell_type": "markdown",
   "id": "3c22ac2b-ead2-4458-b413-aa34da2b6041",
   "metadata": {},
   "source": [
    "Architectural Basics:\n",
    "- Data Model\n",
    "- URL\n",
    "- Controllers\n",
    "- Templates\n",
    "\n",
    "Basically controls server behavior, core scripts run separately."
   ]
  },
  {
   "cell_type": "code",
   "execution_count": null,
   "id": "337e01f9-560d-4686-86a0-0f607934a0e0",
   "metadata": {},
   "outputs": [],
   "source": []
  }
 ],
 "metadata": {
  "kernelspec": {
   "display_name": "BINF",
   "language": "python",
   "name": "binf"
  },
  "language_info": {
   "codemirror_mode": {
    "name": "ipython",
    "version": 3
   },
   "file_extension": ".py",
   "mimetype": "text/x-python",
   "name": "python",
   "nbconvert_exporter": "python",
   "pygments_lexer": "ipython3",
   "version": "3.11.5"
  }
 },
 "nbformat": 4,
 "nbformat_minor": 5
}
