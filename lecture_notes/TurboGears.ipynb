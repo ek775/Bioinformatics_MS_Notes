{
 "cells": [
  {
   "cell_type": "markdown",
   "id": "ea0f50ca-0d46-447c-a155-9e786de4d643",
   "metadata": {},
   "source": [
    "# TurboGears"
   ]
  },
  {
   "cell_type": "markdown",
   "metadata": {},
   "source": [
    "##### Model-View-Controller Paradigm\n",
    "\n",
    "- Model stores the data\n",
    "- View decides how to format/display results\n",
    "- Controller takes requests and responds with the results"
   ]
  },
  {
   "cell_type": "markdown",
   "id": "3c22ac2b-ead2-4458-b413-aa34da2b6041",
   "metadata": {},
   "source": [
    "Architectural Basics:\n",
    "- Data Model\n",
    "- URL\n",
    "- Controllers\n",
    "- Templates\n",
    "\n",
    "Basically controls server behavior, core scripts run separately."
   ]
  },
  {
   "cell_type": "code",
   "execution_count": null,
   "id": "337e01f9-560d-4686-86a0-0f607934a0e0",
   "metadata": {},
   "outputs": [],
   "source": [
    "#basic structure/format of the controller\n",
    "class RootController(BaseController):\n",
    "    @expose(\"\"\"Some URL\"\"\")\n",
    "    def \"\"\"Some SQL Query to Display\"\"\"\n",
    "\n",
    "    etc."
   ]
  },
  {
   "cell_type": "markdown",
   "metadata": {},
   "source": [
    "##### Template\n",
    "- HTML indicating general structure of the page\n",
    "- Updated with relevant information upon being called by the controller\n",
    "- Needs new URL for each page update?\n",
    "- Multiple templates may be needed "
   ]
  },
  {
   "cell_type": "markdown",
   "metadata": {},
   "source": [
    "##### Creating a Search Bar\n",
    "- object called a \"form\" in html\n",
    "- import tw2.forms as twf\n",
    "- use module to create SearchForm object\n",
    "- has fields:\n",
    "    - query (twf.TextField)\n",
    "    - mode (twf.SingleSelectField)\n",
    "    - limit (twf.TextField)\n",
    "    - action ('/search')\n",
    "    - submit button (twf.SubmitButton)"
   ]
  },
  {
   "cell_type": "markdown",
   "metadata": {},
   "source": []
  }
 ],
 "metadata": {
  "kernelspec": {
   "display_name": "BINF",
   "language": "python",
   "name": "binf"
  },
  "language_info": {
   "codemirror_mode": {
    "name": "ipython",
    "version": 3
   },
   "file_extension": ".py",
   "mimetype": "text/x-python",
   "name": "python",
   "nbconvert_exporter": "python",
   "pygments_lexer": "ipython3",
   "version": "3.11.5"
  }
 },
 "nbformat": 4,
 "nbformat_minor": 5
}
