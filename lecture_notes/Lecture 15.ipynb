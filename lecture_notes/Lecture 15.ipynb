{
 "cells": [
  {
   "cell_type": "markdown",
   "id": "ccca7672-4246-450e-adae-fddb208163d7",
   "metadata": {},
   "source": [
    "# Matrices and Data-Frames"
   ]
  },
  {
   "cell_type": "code",
   "execution_count": 1,
   "id": "57ff836d-4e10-4a97-b563-e202cc43c64c",
   "metadata": {},
   "outputs": [],
   "source": [
    "import numpy as np\n",
    "import pandas as pd"
   ]
  },
  {
   "cell_type": "markdown",
   "id": "da02b2f8-0e7e-4147-bd87-ee07b2789b78",
   "metadata": {},
   "source": [
    "### Numpy Arrays and Matrix Operations\n",
    "Documentation: https://numpy.org/doc/stable/user/index.html"
   ]
  },
  {
   "cell_type": "markdown",
   "id": "88e87f59-81d6-4915-83e4-3bcc79846adb",
   "metadata": {},
   "source": [
    "##### For basic 2D arrays:\n",
    "matrix locations = (i,j)\n",
    "- where i = 1st dimension\n",
    "- where j = 2nd dimension"
   ]
  },
  {
   "cell_type": "code",
   "execution_count": 2,
   "id": "1a23af66-85d4-41ca-bf2e-11d73476d222",
   "metadata": {},
   "outputs": [
    {
     "data": {
      "text/plain": [
       "array([ 2,  5, -6])"
      ]
     },
     "execution_count": 2,
     "metadata": {},
     "output_type": "execute_result"
    }
   ],
   "source": [
    "# indexing numpy array:\n",
    "matrix = np.array([[1,9,-13],[2,5,-6]])\n",
    "matrix[1,:]"
   ]
  },
  {
   "cell_type": "markdown",
   "id": "193c5cb5-04f0-45e8-b5e3-3ac0c397ee78",
   "metadata": {},
   "source": [
    "##### Most numpy use cases will involve n-dimensional arrays\n",
    "- For multidimensional arrays, additional indices can be given\n",
    "- for example:\n",
    "- matrix[i, j, k, ...n]"
   ]
  },
  {
   "cell_type": "code",
   "execution_count": 3,
   "id": "cb7e24cb-3f5c-46b8-a2e6-5f951fd927af",
   "metadata": {},
   "outputs": [
    {
     "data": {
      "text/plain": [
       "array([[  1,  81, 169],\n",
       "       [  4,  25,  36]])"
      ]
     },
     "execution_count": 3,
     "metadata": {},
     "output_type": "execute_result"
    }
   ],
   "source": [
    "matrix**(2)"
   ]
  },
  {
   "cell_type": "code",
   "execution_count": 4,
   "id": "bc0d7d16-fe0c-4ba1-a1cc-9dc916c06a60",
   "metadata": {},
   "outputs": [
    {
     "data": {
      "text/plain": [
       "array([[  1,   2],\n",
       "       [  9,   5],\n",
       "       [-13,  -6]])"
      ]
     },
     "execution_count": 4,
     "metadata": {},
     "output_type": "execute_result"
    }
   ],
   "source": [
    "matrix.T"
   ]
  },
  {
   "cell_type": "markdown",
   "id": "508ae9de-7049-47b9-a0a2-d4bd163a41e4",
   "metadata": {},
   "source": [
    "### Multidimensional Arrays"
   ]
  },
  {
   "cell_type": "markdown",
   "id": "fb7b2b37-d3da-4aba-b11a-b396ce5acb39",
   "metadata": {},
   "source": [
    "See 3Blue1Brown on YouTube for linear algebra basics (\"Essence of Linear Algebra\" series)"
   ]
  },
  {
   "cell_type": "code",
   "execution_count": 5,
   "id": "71e1aa67-d720-4e44-847e-21824c2f4a0d",
   "metadata": {},
   "outputs": [
    {
     "data": {
      "text/plain": [
       "array([[[0.67696948, 0.54664491, 0.8673507 ],\n",
       "        [0.18166091, 0.99234231, 0.13322642],\n",
       "        [0.01630432, 0.11404079, 0.35910618]],\n",
       "\n",
       "       [[0.74440443, 0.60073306, 0.70321906],\n",
       "        [0.75998581, 0.09087903, 0.23991692],\n",
       "        [0.5235603 , 0.84000673, 0.86166263]],\n",
       "\n",
       "       [[0.86819052, 0.96910806, 0.36750284],\n",
       "        [0.44716809, 0.74965494, 0.56108961],\n",
       "        [0.54781508, 0.60819169, 0.45475448]]])"
      ]
     },
     "execution_count": 5,
     "metadata": {},
     "output_type": "execute_result"
    }
   ],
   "source": [
    "matrix_3d = np.random.rand(3,3,3)\n",
    "matrix_3d"
   ]
  },
  {
   "cell_type": "code",
   "execution_count": 6,
   "id": "243b5385-0472-4e3a-b242-ba6aaad5fc36",
   "metadata": {},
   "outputs": [
    {
     "data": {
      "text/plain": [
       "array([[[6.7696948 , 5.46644907, 8.67350696],\n",
       "        [1.81660906, 9.92342309, 1.33226422],\n",
       "        [0.16304322, 1.14040792, 3.5910618 ]],\n",
       "\n",
       "       [[7.44404431, 6.00733056, 7.03219057],\n",
       "        [7.59985814, 0.90879031, 2.39916918],\n",
       "        [5.23560299, 8.40006729, 8.61662629]],\n",
       "\n",
       "       [[8.68190518, 9.6910806 , 3.67502838],\n",
       "        [4.47168085, 7.49654937, 5.61089611],\n",
       "        [5.47815085, 6.08191693, 4.54754481]]])"
      ]
     },
     "execution_count": 6,
     "metadata": {},
     "output_type": "execute_result"
    }
   ],
   "source": [
    "matrix_3d = matrix_3d*10\n",
    "matrix_3d"
   ]
  },
  {
   "cell_type": "code",
   "execution_count": 7,
   "id": "2c5f2cd4-162b-4cdf-81f7-2798a8228bd1",
   "metadata": {},
   "outputs": [
    {
     "data": {
      "text/plain": [
       "array([[[6.7696948 , 7.44404431, 8.68190518],\n",
       "        [1.81660906, 7.59985814, 4.47168085],\n",
       "        [0.16304322, 5.23560299, 5.47815085]],\n",
       "\n",
       "       [[5.46644907, 6.00733056, 9.6910806 ],\n",
       "        [9.92342309, 0.90879031, 7.49654937],\n",
       "        [1.14040792, 8.40006729, 6.08191693]],\n",
       "\n",
       "       [[8.67350696, 7.03219057, 3.67502838],\n",
       "        [1.33226422, 2.39916918, 5.61089611],\n",
       "        [3.5910618 , 8.61662629, 4.54754481]]])"
      ]
     },
     "execution_count": 7,
     "metadata": {},
     "output_type": "execute_result"
    }
   ],
   "source": [
    "matrix_3d.T"
   ]
  },
  {
   "cell_type": "markdown",
   "id": "2ccfd2c5-171f-482c-ae6d-54b816b500b2",
   "metadata": {},
   "source": [
    "### Pandas"
   ]
  },
  {
   "cell_type": "markdown",
   "id": "e9de9e95-4357-4ee8-9d85-f3e6a804b16a",
   "metadata": {},
   "source": [
    "This is an incredibly useful package for initial exploration of data and works well with various statistics and visualization packages such as matplotlib, seaborn, scipy, sklearn, statsmodels, and many more.\n",
    "\n",
    "Be sure to read the documentation to find even more useful functions and utilities:\n",
    "https://pandas.pydata.org/docs/"
   ]
  },
  {
   "cell_type": "markdown",
   "id": "c9cf3bda-3a2a-43d1-a0c3-91cf788fa0aa",
   "metadata": {},
   "source": [
    "##### Numpy is oriented row-first, Pandas is oriented column-first\n",
    "- this leads to speed advantages at different tasks for np-arrays versus pd-dataframes"
   ]
  },
  {
   "cell_type": "code",
   "execution_count": 8,
   "id": "d70394f5-37ea-4835-8cb0-a972bf637816",
   "metadata": {},
   "outputs": [],
   "source": [
    "df = pd.DataFrame(np.random.rand(10,10))"
   ]
  },
  {
   "cell_type": "code",
   "execution_count": 9,
   "id": "927f391b-f0f6-47f5-82ad-fd6bad4e093d",
   "metadata": {},
   "outputs": [
    {
     "data": {
      "text/html": [
       "<div>\n",
       "<style scoped>\n",
       "    .dataframe tbody tr th:only-of-type {\n",
       "        vertical-align: middle;\n",
       "    }\n",
       "\n",
       "    .dataframe tbody tr th {\n",
       "        vertical-align: top;\n",
       "    }\n",
       "\n",
       "    .dataframe thead th {\n",
       "        text-align: right;\n",
       "    }\n",
       "</style>\n",
       "<table border=\"1\" class=\"dataframe\">\n",
       "  <thead>\n",
       "    <tr style=\"text-align: right;\">\n",
       "      <th></th>\n",
       "      <th>0</th>\n",
       "      <th>1</th>\n",
       "      <th>2</th>\n",
       "      <th>3</th>\n",
       "      <th>4</th>\n",
       "      <th>5</th>\n",
       "      <th>6</th>\n",
       "      <th>7</th>\n",
       "      <th>8</th>\n",
       "      <th>9</th>\n",
       "    </tr>\n",
       "  </thead>\n",
       "  <tbody>\n",
       "    <tr>\n",
       "      <th>0</th>\n",
       "      <td>0.271130</td>\n",
       "      <td>0.548723</td>\n",
       "      <td>0.910259</td>\n",
       "      <td>0.298098</td>\n",
       "      <td>0.707197</td>\n",
       "      <td>0.185192</td>\n",
       "      <td>0.607955</td>\n",
       "      <td>0.491264</td>\n",
       "      <td>0.311462</td>\n",
       "      <td>0.268230</td>\n",
       "    </tr>\n",
       "    <tr>\n",
       "      <th>1</th>\n",
       "      <td>0.797669</td>\n",
       "      <td>0.526395</td>\n",
       "      <td>0.316534</td>\n",
       "      <td>0.339371</td>\n",
       "      <td>0.779190</td>\n",
       "      <td>0.674704</td>\n",
       "      <td>0.953748</td>\n",
       "      <td>0.030475</td>\n",
       "      <td>0.960333</td>\n",
       "      <td>0.569228</td>\n",
       "    </tr>\n",
       "    <tr>\n",
       "      <th>2</th>\n",
       "      <td>0.088028</td>\n",
       "      <td>0.831357</td>\n",
       "      <td>0.881244</td>\n",
       "      <td>0.149287</td>\n",
       "      <td>0.679348</td>\n",
       "      <td>0.797055</td>\n",
       "      <td>0.474042</td>\n",
       "      <td>0.928781</td>\n",
       "      <td>0.184906</td>\n",
       "      <td>0.294549</td>\n",
       "    </tr>\n",
       "    <tr>\n",
       "      <th>3</th>\n",
       "      <td>0.971662</td>\n",
       "      <td>0.224895</td>\n",
       "      <td>0.033094</td>\n",
       "      <td>0.056585</td>\n",
       "      <td>0.334995</td>\n",
       "      <td>0.012898</td>\n",
       "      <td>0.016748</td>\n",
       "      <td>0.742371</td>\n",
       "      <td>0.485073</td>\n",
       "      <td>0.235698</td>\n",
       "    </tr>\n",
       "    <tr>\n",
       "      <th>4</th>\n",
       "      <td>0.581061</td>\n",
       "      <td>0.945276</td>\n",
       "      <td>0.548197</td>\n",
       "      <td>0.944633</td>\n",
       "      <td>0.145542</td>\n",
       "      <td>0.393657</td>\n",
       "      <td>0.588403</td>\n",
       "      <td>0.667803</td>\n",
       "      <td>0.716061</td>\n",
       "      <td>0.390730</td>\n",
       "    </tr>\n",
       "    <tr>\n",
       "      <th>5</th>\n",
       "      <td>0.675680</td>\n",
       "      <td>0.024408</td>\n",
       "      <td>0.467024</td>\n",
       "      <td>0.028381</td>\n",
       "      <td>0.425624</td>\n",
       "      <td>0.709800</td>\n",
       "      <td>0.657009</td>\n",
       "      <td>0.425480</td>\n",
       "      <td>0.295653</td>\n",
       "      <td>0.688470</td>\n",
       "    </tr>\n",
       "    <tr>\n",
       "      <th>6</th>\n",
       "      <td>0.164547</td>\n",
       "      <td>0.614266</td>\n",
       "      <td>0.488344</td>\n",
       "      <td>0.652010</td>\n",
       "      <td>0.216234</td>\n",
       "      <td>0.565954</td>\n",
       "      <td>0.810064</td>\n",
       "      <td>0.817699</td>\n",
       "      <td>0.691308</td>\n",
       "      <td>0.156191</td>\n",
       "    </tr>\n",
       "    <tr>\n",
       "      <th>7</th>\n",
       "      <td>0.975777</td>\n",
       "      <td>0.859887</td>\n",
       "      <td>0.811564</td>\n",
       "      <td>0.366067</td>\n",
       "      <td>0.373910</td>\n",
       "      <td>0.995592</td>\n",
       "      <td>0.511935</td>\n",
       "      <td>0.004966</td>\n",
       "      <td>0.722226</td>\n",
       "      <td>0.592017</td>\n",
       "    </tr>\n",
       "    <tr>\n",
       "      <th>8</th>\n",
       "      <td>0.772718</td>\n",
       "      <td>0.872637</td>\n",
       "      <td>0.868912</td>\n",
       "      <td>0.157671</td>\n",
       "      <td>0.803218</td>\n",
       "      <td>0.635838</td>\n",
       "      <td>0.060725</td>\n",
       "      <td>0.385809</td>\n",
       "      <td>0.786952</td>\n",
       "      <td>0.793820</td>\n",
       "    </tr>\n",
       "    <tr>\n",
       "      <th>9</th>\n",
       "      <td>0.752304</td>\n",
       "      <td>0.591812</td>\n",
       "      <td>0.065456</td>\n",
       "      <td>0.037715</td>\n",
       "      <td>0.602587</td>\n",
       "      <td>0.422580</td>\n",
       "      <td>0.501678</td>\n",
       "      <td>0.012701</td>\n",
       "      <td>0.204509</td>\n",
       "      <td>0.160153</td>\n",
       "    </tr>\n",
       "  </tbody>\n",
       "</table>\n",
       "</div>"
      ],
      "text/plain": [
       "          0         1         2         3         4         5         6  \\\n",
       "0  0.271130  0.548723  0.910259  0.298098  0.707197  0.185192  0.607955   \n",
       "1  0.797669  0.526395  0.316534  0.339371  0.779190  0.674704  0.953748   \n",
       "2  0.088028  0.831357  0.881244  0.149287  0.679348  0.797055  0.474042   \n",
       "3  0.971662  0.224895  0.033094  0.056585  0.334995  0.012898  0.016748   \n",
       "4  0.581061  0.945276  0.548197  0.944633  0.145542  0.393657  0.588403   \n",
       "5  0.675680  0.024408  0.467024  0.028381  0.425624  0.709800  0.657009   \n",
       "6  0.164547  0.614266  0.488344  0.652010  0.216234  0.565954  0.810064   \n",
       "7  0.975777  0.859887  0.811564  0.366067  0.373910  0.995592  0.511935   \n",
       "8  0.772718  0.872637  0.868912  0.157671  0.803218  0.635838  0.060725   \n",
       "9  0.752304  0.591812  0.065456  0.037715  0.602587  0.422580  0.501678   \n",
       "\n",
       "          7         8         9  \n",
       "0  0.491264  0.311462  0.268230  \n",
       "1  0.030475  0.960333  0.569228  \n",
       "2  0.928781  0.184906  0.294549  \n",
       "3  0.742371  0.485073  0.235698  \n",
       "4  0.667803  0.716061  0.390730  \n",
       "5  0.425480  0.295653  0.688470  \n",
       "6  0.817699  0.691308  0.156191  \n",
       "7  0.004966  0.722226  0.592017  \n",
       "8  0.385809  0.786952  0.793820  \n",
       "9  0.012701  0.204509  0.160153  "
      ]
     },
     "execution_count": 9,
     "metadata": {},
     "output_type": "execute_result"
    }
   ],
   "source": [
    "df"
   ]
  },
  {
   "cell_type": "code",
   "execution_count": 10,
   "id": "bea0a134-071e-4fd3-bad0-ed98234998a6",
   "metadata": {},
   "outputs": [
    {
     "name": "stdout",
     "output_type": "stream",
     "text": [
      "<class 'pandas.core.frame.DataFrame'>\n",
      "RangeIndex: 10 entries, 0 to 9\n",
      "Data columns (total 10 columns):\n",
      " #   Column  Non-Null Count  Dtype  \n",
      "---  ------  --------------  -----  \n",
      " 0   0       10 non-null     float64\n",
      " 1   1       10 non-null     float64\n",
      " 2   2       10 non-null     float64\n",
      " 3   3       10 non-null     float64\n",
      " 4   4       10 non-null     float64\n",
      " 5   5       10 non-null     float64\n",
      " 6   6       10 non-null     float64\n",
      " 7   7       10 non-null     float64\n",
      " 8   8       10 non-null     float64\n",
      " 9   9       10 non-null     float64\n",
      "dtypes: float64(10)\n",
      "memory usage: 932.0 bytes\n"
     ]
    }
   ],
   "source": [
    "df.info()"
   ]
  },
  {
   "cell_type": "code",
   "execution_count": 11,
   "id": "0e393e0e-679b-438c-b76b-91e2ec722b27",
   "metadata": {},
   "outputs": [
    {
     "data": {
      "text/html": [
       "<div>\n",
       "<style scoped>\n",
       "    .dataframe tbody tr th:only-of-type {\n",
       "        vertical-align: middle;\n",
       "    }\n",
       "\n",
       "    .dataframe tbody tr th {\n",
       "        vertical-align: top;\n",
       "    }\n",
       "\n",
       "    .dataframe thead th {\n",
       "        text-align: right;\n",
       "    }\n",
       "</style>\n",
       "<table border=\"1\" class=\"dataframe\">\n",
       "  <thead>\n",
       "    <tr style=\"text-align: right;\">\n",
       "      <th></th>\n",
       "      <th>0</th>\n",
       "      <th>1</th>\n",
       "      <th>2</th>\n",
       "      <th>3</th>\n",
       "      <th>4</th>\n",
       "      <th>5</th>\n",
       "      <th>6</th>\n",
       "      <th>7</th>\n",
       "      <th>8</th>\n",
       "      <th>9</th>\n",
       "    </tr>\n",
       "  </thead>\n",
       "  <tbody>\n",
       "    <tr>\n",
       "      <th>count</th>\n",
       "      <td>10.000000</td>\n",
       "      <td>10.000000</td>\n",
       "      <td>10.000000</td>\n",
       "      <td>10.000000</td>\n",
       "      <td>10.000000</td>\n",
       "      <td>10.000000</td>\n",
       "      <td>10.000000</td>\n",
       "      <td>10.000000</td>\n",
       "      <td>10.000000</td>\n",
       "      <td>10.000000</td>\n",
       "    </tr>\n",
       "    <tr>\n",
       "      <th>mean</th>\n",
       "      <td>0.605058</td>\n",
       "      <td>0.603966</td>\n",
       "      <td>0.539063</td>\n",
       "      <td>0.302982</td>\n",
       "      <td>0.506785</td>\n",
       "      <td>0.539327</td>\n",
       "      <td>0.518231</td>\n",
       "      <td>0.450735</td>\n",
       "      <td>0.535848</td>\n",
       "      <td>0.414909</td>\n",
       "    </tr>\n",
       "    <tr>\n",
       "      <th>std</th>\n",
       "      <td>0.322691</td>\n",
       "      <td>0.297169</td>\n",
       "      <td>0.329242</td>\n",
       "      <td>0.296289</td>\n",
       "      <td>0.238017</td>\n",
       "      <td>0.292385</td>\n",
       "      <td>0.292525</td>\n",
       "      <td>0.344651</td>\n",
       "      <td>0.274507</td>\n",
       "      <td>0.229523</td>\n",
       "    </tr>\n",
       "    <tr>\n",
       "      <th>min</th>\n",
       "      <td>0.088028</td>\n",
       "      <td>0.024408</td>\n",
       "      <td>0.033094</td>\n",
       "      <td>0.028381</td>\n",
       "      <td>0.145542</td>\n",
       "      <td>0.012898</td>\n",
       "      <td>0.016748</td>\n",
       "      <td>0.004966</td>\n",
       "      <td>0.184906</td>\n",
       "      <td>0.156191</td>\n",
       "    </tr>\n",
       "    <tr>\n",
       "      <th>25%</th>\n",
       "      <td>0.348613</td>\n",
       "      <td>0.531977</td>\n",
       "      <td>0.354156</td>\n",
       "      <td>0.079761</td>\n",
       "      <td>0.344724</td>\n",
       "      <td>0.400887</td>\n",
       "      <td>0.480951</td>\n",
       "      <td>0.119309</td>\n",
       "      <td>0.299605</td>\n",
       "      <td>0.243831</td>\n",
       "    </tr>\n",
       "    <tr>\n",
       "      <th>50%</th>\n",
       "      <td>0.713992</td>\n",
       "      <td>0.603039</td>\n",
       "      <td>0.518270</td>\n",
       "      <td>0.227885</td>\n",
       "      <td>0.514106</td>\n",
       "      <td>0.600896</td>\n",
       "      <td>0.550169</td>\n",
       "      <td>0.458372</td>\n",
       "      <td>0.588190</td>\n",
       "      <td>0.342639</td>\n",
       "    </tr>\n",
       "    <tr>\n",
       "      <th>75%</th>\n",
       "      <td>0.791431</td>\n",
       "      <td>0.852754</td>\n",
       "      <td>0.854575</td>\n",
       "      <td>0.359393</td>\n",
       "      <td>0.700235</td>\n",
       "      <td>0.701026</td>\n",
       "      <td>0.644746</td>\n",
       "      <td>0.723729</td>\n",
       "      <td>0.720685</td>\n",
       "      <td>0.586319</td>\n",
       "    </tr>\n",
       "    <tr>\n",
       "      <th>max</th>\n",
       "      <td>0.975777</td>\n",
       "      <td>0.945276</td>\n",
       "      <td>0.910259</td>\n",
       "      <td>0.944633</td>\n",
       "      <td>0.803218</td>\n",
       "      <td>0.995592</td>\n",
       "      <td>0.953748</td>\n",
       "      <td>0.928781</td>\n",
       "      <td>0.960333</td>\n",
       "      <td>0.793820</td>\n",
       "    </tr>\n",
       "  </tbody>\n",
       "</table>\n",
       "</div>"
      ],
      "text/plain": [
       "               0          1          2          3          4          5  \\\n",
       "count  10.000000  10.000000  10.000000  10.000000  10.000000  10.000000   \n",
       "mean    0.605058   0.603966   0.539063   0.302982   0.506785   0.539327   \n",
       "std     0.322691   0.297169   0.329242   0.296289   0.238017   0.292385   \n",
       "min     0.088028   0.024408   0.033094   0.028381   0.145542   0.012898   \n",
       "25%     0.348613   0.531977   0.354156   0.079761   0.344724   0.400887   \n",
       "50%     0.713992   0.603039   0.518270   0.227885   0.514106   0.600896   \n",
       "75%     0.791431   0.852754   0.854575   0.359393   0.700235   0.701026   \n",
       "max     0.975777   0.945276   0.910259   0.944633   0.803218   0.995592   \n",
       "\n",
       "               6          7          8          9  \n",
       "count  10.000000  10.000000  10.000000  10.000000  \n",
       "mean    0.518231   0.450735   0.535848   0.414909  \n",
       "std     0.292525   0.344651   0.274507   0.229523  \n",
       "min     0.016748   0.004966   0.184906   0.156191  \n",
       "25%     0.480951   0.119309   0.299605   0.243831  \n",
       "50%     0.550169   0.458372   0.588190   0.342639  \n",
       "75%     0.644746   0.723729   0.720685   0.586319  \n",
       "max     0.953748   0.928781   0.960333   0.793820  "
      ]
     },
     "execution_count": 11,
     "metadata": {},
     "output_type": "execute_result"
    }
   ],
   "source": [
    "df.describe()"
   ]
  },
  {
   "cell_type": "code",
   "execution_count": null,
   "id": "4bebac12-d5da-4969-86c7-7d4e7bc31b92",
   "metadata": {},
   "outputs": [],
   "source": []
  }
 ],
 "metadata": {
  "kernelspec": {
   "display_name": "BINF",
   "language": "python",
   "name": "binf"
  },
  "language_info": {
   "codemirror_mode": {
    "name": "ipython",
    "version": 3
   },
   "file_extension": ".py",
   "mimetype": "text/x-python",
   "name": "python",
   "nbconvert_exporter": "python",
   "pygments_lexer": "ipython3",
   "version": "3.11.5"
  }
 },
 "nbformat": 4,
 "nbformat_minor": 5
}
