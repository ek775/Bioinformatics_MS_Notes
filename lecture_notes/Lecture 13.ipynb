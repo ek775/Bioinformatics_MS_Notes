{
 "cells": [
  {
   "cell_type": "markdown",
   "id": "3d7817c8-333a-4968-9532-a121cc5fb0d0",
   "metadata": {},
   "source": [
    "# Lecture 19 - PYSAM"
   ]
  },
  {
   "cell_type": "markdown",
   "id": "3a2cd32c-b235-4c9e-8bbd-7961a5b14b78",
   "metadata": {},
   "source": [
    "NGS - aggregate reads by aligning each with reference genome\n",
    "\n",
    "Typically viewed using tools like DGV\n",
    "\n",
    "QC - dependent on alignment quality"
   ]
  },
  {
   "cell_type": "markdown",
   "id": "2c36be8e-f777-4bac-b3f6-83d98e08a045",
   "metadata": {},
   "source": [
    "### Tools for NGS Data"
   ]
  },
  {
   "cell_type": "markdown",
   "id": "a7a1dd0a-5871-4e99-9358-33d18acc128b",
   "metadata": {},
   "source": [
    "- NGS data is huge, requires specialized libraries to avoid wasting time\n",
    "- Raw Python for:\n",
    "- - clean up\n",
    "  - post-process tool output\n",
    "  - visualization\n",
    "- Download data for class lecture via wget"
   ]
  },
  {
   "cell_type": "markdown",
   "id": "13e40393-a10a-42cb-a766-556db1d008fb",
   "metadata": {},
   "source": [
    "NGS produces \"fastq\" files:\n",
    "- Read ID\n",
    "- Sequence Read\n",
    "- Quality Score"
   ]
  },
  {
   "cell_type": "markdown",
   "id": "5547a79f-5497-42f5-9521-5c0c12bb15c6",
   "metadata": {},
   "source": [
    "Biopython \"parse\" will place quality scores in _letter_annotation attribute, accessible with appropriate QC score decoder"
   ]
  },
  {
   "cell_type": "code",
   "execution_count": null,
   "id": "1b489793-cccd-48db-857b-48ede7947d33",
   "metadata": {},
   "outputs": [],
   "source": [
    "for read in Bio.SeqIO.parse(\"some_file\", \"fastq\"):\n",
    "    useful_variable = read.letter_annotations[\"phred_quality\"]"
   ]
  },
  {
   "cell_type": "markdown",
   "id": "e643b1a2-1f47-46ca-882c-68abf9337310",
   "metadata": {},
   "source": [
    "we can also reformat the reads with the .format() method and a file type argument:"
   ]
  },
  {
   "cell_type": "code",
   "execution_count": null,
   "id": "dfe6dc61-e1fb-4440-b708-881b549581d9",
   "metadata": {},
   "outputs": [],
   "source": [
    "read.format(\"fasta\")"
   ]
  },
  {
   "cell_type": "markdown",
   "id": "e7ee017f-0400-4ba1-86c4-20da911ae078",
   "metadata": {},
   "source": [
    "Still Need to align everything however - thus, PYSAM"
   ]
  },
  {
   "cell_type": "code",
   "execution_count": null,
   "id": "9887f043-bffe-4f42-aefb-8aed6d0ce747",
   "metadata": {},
   "outputs": [],
   "source": [
    "# based on BAM files\n",
    "var = pysam.Samefile(\"some_bam_file\")\n",
    "var.pileup(chromosome, start_pos, end_pos):\n",
    "# aggregates reads in given location"
   ]
  },
  {
   "cell_type": "code",
   "execution_count": null,
   "id": "05a34795-2ee0-4ee6-b629-6ef0aa9ea224",
   "metadata": {},
   "outputs": [],
   "source": []
  }
 ],
 "metadata": {
  "kernelspec": {
   "display_name": "BINF",
   "language": "python",
   "name": "binf"
  },
  "language_info": {
   "codemirror_mode": {
    "name": "ipython",
    "version": 3
   },
   "file_extension": ".py",
   "mimetype": "text/x-python",
   "name": "python",
   "nbconvert_exporter": "python",
   "pygments_lexer": "ipython3",
   "version": "3.11.5"
  }
 },
 "nbformat": 4,
 "nbformat_minor": 5
}
