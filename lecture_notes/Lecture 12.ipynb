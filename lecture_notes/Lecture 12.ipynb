{
 "cells": [
  {
   "cell_type": "markdown",
   "id": "81541e93-c72d-4021-b784-3e1f35a043bc",
   "metadata": {},
   "source": [
    "# Sequence File Parsing using Biopython"
   ]
  },
  {
   "cell_type": "markdown",
   "id": "d522ea82-592b-4673-be13-84e8f5e7af3c",
   "metadata": {},
   "source": [
    "Biopython module is called \"Bio\" in path"
   ]
  },
  {
   "cell_type": "code",
   "execution_count": 5,
   "id": "2052bb84-1bd0-4647-96b7-3d6f76d0ae22",
   "metadata": {},
   "outputs": [],
   "source": [
    "# Biopython module as alias biopy for clarity\n",
    "import Bio as biopy"
   ]
  },
  {
   "cell_type": "code",
   "execution_count": 3,
   "id": "e90b6c80-399e-4088-b8a5-c8d2764e5b84",
   "metadata": {},
   "outputs": [
    {
     "data": {
      "text/plain": [
       "<module 'Bio' from 'C:\\\\Users\\\\ninja\\\\anaconda3\\\\envs\\\\BINF\\\\Lib\\\\site-packages\\\\Bio\\\\__init__.py'>"
      ]
     },
     "execution_count": 3,
     "metadata": {},
     "output_type": "execute_result"
    }
   ],
   "source": [
    "Bio"
   ]
  },
  {
   "cell_type": "markdown",
   "id": "1f01ca06-3228-4ab1-bf42-fff630f96498",
   "metadata": {},
   "source": [
    "### Parsing a FASTA file"
   ]
  },
  {
   "cell_type": "code",
   "execution_count": 6,
   "id": "870333af-838d-43e9-acbb-107bd72fd9fb",
   "metadata": {},
   "outputs": [
    {
     "ename": "SyntaxError",
     "evalue": "invalid syntax (2932269775.py, line 6)",
     "output_type": "error",
     "traceback": [
      "\u001b[1;36m  Cell \u001b[1;32mIn[6], line 6\u001b[1;36m\u001b[0m\n\u001b[1;33m    seqfile = with open(seqfilename)\u001b[0m\n\u001b[1;37m              ^\u001b[0m\n\u001b[1;31mSyntaxError\u001b[0m\u001b[1;31m:\u001b[0m invalid syntax\n"
     ]
    }
   ],
   "source": [
    "import Bio.SeqIO\n",
    "import sys\n",
    "\n",
    "#open FASTA file and iterate through its sequences\n",
    "seqfilename = sys.argv[1]\n",
    "seqfile = with open(seqfilename)\n",
    "\n",
    "#parses given file in \"fasta\" format\n",
    "for seqrecord in Bio.SeqIO.parse(seqfile, \"fasta\"):\n",
    "    #returns objects with attributes\n",
    "    seq_record.id\n",
    "    seq_record.description\n",
    "    seq_record.seq\n",
    "    \"\"\"do something code\"\"\"\n",
    "    \"\"\"Note: single human Genome ~3GB of data\""
   ]
  },
  {
   "cell_type": "markdown",
   "id": "bf5c44ec-72dc-4a12-b35e-b09541cac460",
   "metadata": {},
   "source": [
    "### Other formats for biopython:\n",
    "\n",
    "- Genbank : \"genbank\"\n",
    "- Uniprot/SwissProt flat-file : \"swiss\"\n",
    "- UniProt-XML : \"uniprot-xml\"\n",
    "- gzip : use gzip module with mode \"rt\"\n",
    "\n",
    "***Generally, most formats will return .id, .description, .seq attributes - some additional attributes may be present if format presents that information."
   ]
  },
  {
   "cell_type": "markdown",
   "id": "f7a4e4df-6d63-487d-b024-180cdf9cbdc2",
   "metadata": {},
   "source": [
    "### Non-sequence info in \"rich\" sequence databases"
   ]
  },
  {
   "cell_type": "markdown",
   "id": "60150583-83fd-4827-835e-542374c2f745",
   "metadata": {},
   "source": [
    "- Annotations\n",
    "- Cross-References\n",
    "- Sequence Features\n",
    "- Literature"
   ]
  },
  {
   "cell_type": "markdown",
   "id": "9730d63a-2bfa-4a57-b784-308838578485",
   "metadata": {},
   "source": [
    "##### Finding these attributes with ipython:"
   ]
  },
  {
   "cell_type": "code",
   "execution_count": null,
   "id": "2d656988-e8f4-480c-9299-660392e775cd",
   "metadata": {},
   "outputs": [],
   "source": [
    "repr(seq_record)\n",
    "    \"\"\"\n",
    "    Object Type\n",
    "    list of attributes and associated values for given object\n",
    "    \"\"\"\n",
    "dir(seq_record)\n",
    "    \"\"\"\n",
    "    bunch of \"methods\" #ONLY ACCESS ATTRIBUTES VIA THE APPROPRIATE METHOD\n",
    "    bunch of \"__some_attribute_name__\"\n",
    "    bunch of \"_internal_use_only\"\n",
    "    \"\"\""
   ]
  },
  {
   "cell_type": "markdown",
   "id": "4d6ebc48-4855-4795-9c21-2014b5aac288",
   "metadata": {},
   "source": [
    "### Random Access / Indexing with Biopython"
   ]
  },
  {
   "cell_type": "markdown",
   "id": "8bcd04c6-41d0-43b3-bd6c-57bfcedf67e9",
   "metadata": {},
   "source": [
    "Two options:\n",
    "- .to_dict() #memory intensive\n",
    "- .index() #functions more on location, cannot use a compressed file"
   ]
  },
  {
   "cell_type": "code",
   "execution_count": null,
   "id": "a8844225-b6ab-45a8-ba2c-bd447554cab3",
   "metadata": {},
   "outputs": [],
   "source": []
  }
 ],
 "metadata": {
  "kernelspec": {
   "display_name": "BINF",
   "language": "python",
   "name": "binf"
  },
  "language_info": {
   "codemirror_mode": {
    "name": "ipython",
    "version": 3
   },
   "file_extension": ".py",
   "mimetype": "text/x-python",
   "name": "python",
   "nbconvert_exporter": "python",
   "pygments_lexer": "ipython3",
   "version": "3.11.5"
  }
 },
 "nbformat": 4,
 "nbformat_minor": 5
}
