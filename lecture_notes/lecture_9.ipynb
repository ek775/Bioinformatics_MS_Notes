{
 "cells": [
  {
   "cell_type": "markdown",
   "id": "97c62725-752a-494b-97f7-b72013e415e9",
   "metadata": {},
   "source": [
    "# Exercises 9/18/2023"
   ]
  },
  {
   "cell_type": "code",
   "execution_count": 2,
   "id": "5911f783-3f9d-426d-847b-0910e006f26d",
   "metadata": {},
   "outputs": [],
   "source": [
    "import re\n",
    "import sys"
   ]
  },
  {
   "cell_type": "markdown",
   "id": "ed28679b-30de-486a-9d6e-fd940988923f",
   "metadata": {},
   "source": [
    "(1) Check for invalid nucleotides in a sequence"
   ]
  },
  {
   "cell_type": "code",
   "execution_count": null,
   "id": "c6a95406-2054-4ff6-91a3-2f8f203d3611",
   "metadata": {},
   "outputs": [],
   "source": [
    "if len(sys.argv) < 2:\n",
    "    print(Please provide a DNA sequence on the command line"
   ]
  },
  {
   "cell_type": "markdown",
   "id": "209bcdba-75db-4f13-8422-75d2fcfc1601",
   "metadata": {},
   "source": [
    "(2)"
   ]
  },
  {
   "cell_type": "code",
   "execution_count": null,
   "id": "6462fb14-84d4-4368-a29c-cce48c2c1b41",
   "metadata": {},
   "outputs": [],
   "source": []
  },
  {
   "cell_type": "code",
   "execution_count": null,
   "id": "5642bb84-7ed9-496f-a779-d7334e7553d6",
   "metadata": {},
   "outputs": [],
   "source": []
  },
  {
   "cell_type": "code",
   "execution_count": null,
   "id": "b9e0c66b-7e5d-4c8e-93f5-65c17880cb26",
   "metadata": {},
   "outputs": [],
   "source": []
  }
 ],
 "metadata": {
  "kernelspec": {
   "display_name": "BINF",
   "language": "python",
   "name": "binf"
  },
  "language_info": {
   "codemirror_mode": {
    "name": "ipython",
    "version": 3
   },
   "file_extension": ".py",
   "mimetype": "text/x-python",
   "name": "python",
   "nbconvert_exporter": "python",
   "pygments_lexer": "ipython3",
   "version": "3.11.5"
  }
 },
 "nbformat": 4,
 "nbformat_minor": 5
}
