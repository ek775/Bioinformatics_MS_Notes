{
 "cells": [
  {
   "cell_type": "markdown",
   "id": "da174381-8b75-4173-ae2a-19e0db0eb7f4",
   "metadata": {},
   "source": [
    "# Sequences, Iteration, and Iterables"
   ]
  },
  {
   "cell_type": "code",
   "execution_count": 1,
   "id": "533ff145-1070-4fff-aead-663a8e498801",
   "metadata": {},
   "outputs": [
    {
     "data": {
      "text/plain": [
       "['a', 'b', 'c', 'd', 'e', 'f']"
      ]
     },
     "execution_count": 1,
     "metadata": {},
     "output_type": "execute_result"
    }
   ],
   "source": [
    "list(\"abcdef\")"
   ]
  },
  {
   "cell_type": "code",
   "execution_count": 2,
   "id": "619c6a5b-b967-4398-b8bb-3c7bc018253e",
   "metadata": {},
   "outputs": [
    {
     "data": {
      "text/plain": [
       "['abcdef']"
      ]
     },
     "execution_count": 2,
     "metadata": {},
     "output_type": "execute_result"
    }
   ],
   "source": [
    "L = [\"abcdef\"]\n",
    "L"
   ]
  },
  {
   "cell_type": "markdown",
   "id": "44e09afe-cd81-400e-8b86-af3216424297",
   "metadata": {},
   "source": []
  },
  {
   "cell_type": "markdown",
   "id": "c3c4f897-5e32-4706-9d31-7fff668f2433",
   "metadata": {},
   "source": [
    "# Functional Programming"
   ]
  },
  {
   "cell_type": "markdown",
   "id": "c846541c-f645-43cb-acde-63920d40253e",
   "metadata": {},
   "source": []
  }
 ],
 "metadata": {
  "kernelspec": {
   "display_name": "BINF",
   "language": "python",
   "name": "binf"
  },
  "language_info": {
   "codemirror_mode": {
    "name": "ipython",
    "version": 3
   },
   "file_extension": ".py",
   "mimetype": "text/x-python",
   "name": "python",
   "nbconvert_exporter": "python",
   "pygments_lexer": "ipython3",
   "version": "3.11.5"
  }
 },
 "nbformat": 4,
 "nbformat_minor": 5
}
