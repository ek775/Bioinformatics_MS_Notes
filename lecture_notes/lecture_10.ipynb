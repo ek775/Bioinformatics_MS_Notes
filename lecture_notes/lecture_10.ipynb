{
 "cells": [
  {
   "cell_type": "markdown",
   "id": "da174381-8b75-4173-ae2a-19e0db0eb7f4",
   "metadata": {},
   "source": [
    "# Sequences, Iteration, and Iterables"
   ]
  },
  {
   "cell_type": "code",
   "execution_count": 1,
   "id": "533ff145-1070-4fff-aead-663a8e498801",
   "metadata": {},
   "outputs": [
    {
     "data": {
      "text/plain": [
       "['a', 'b', 'c', 'd', 'e', 'f']"
      ]
     },
     "execution_count": 1,
     "metadata": {},
     "output_type": "execute_result"
    }
   ],
   "source": [
    "list(\"abcdef\")"
   ]
  },
  {
   "cell_type": "code",
   "execution_count": 2,
   "id": "619c6a5b-b967-4398-b8bb-3c7bc018253e",
   "metadata": {},
   "outputs": [
    {
     "data": {
      "text/plain": [
       "['abcdef']"
      ]
     },
     "execution_count": 2,
     "metadata": {},
     "output_type": "execute_result"
    }
   ],
   "source": [
    "L = [\"abcdef\"]\n",
    "L"
   ]
  },
  {
   "cell_type": "markdown",
   "id": "44e09afe-cd81-400e-8b86-af3216424297",
   "metadata": {},
   "source": [
    "# Comprehensions"
   ]
  },
  {
   "cell_type": "code",
   "execution_count": 2,
   "id": "2a3f3a37-f7de-40fb-bd0f-86c510c7a147",
   "metadata": {},
   "outputs": [],
   "source": [
    "\"\"\"Huzzah\"\"\"\n",
    "import numpy as np"
   ]
  },
  {
   "cell_type": "code",
   "execution_count": 7,
   "id": "51a7605a-a800-4caa-8151-3f5dd99ca4ce",
   "metadata": {},
   "outputs": [
    {
     "data": {
      "text/plain": [
       "[0,\n",
       " 8,\n",
       " 1,\n",
       " 9,\n",
       " 1,\n",
       " 9,\n",
       " 6,\n",
       " 1,\n",
       " 3,\n",
       " 9,\n",
       " 6,\n",
       " 3,\n",
       " 6,\n",
       " 0,\n",
       " 2,\n",
       " 4,\n",
       " 3,\n",
       " 9,\n",
       " 0,\n",
       " 6,\n",
       " 8,\n",
       " 4,\n",
       " 1,\n",
       " 0,\n",
       " 5,\n",
       " 9,\n",
       " 1,\n",
       " 1,\n",
       " 1,\n",
       " 1,\n",
       " 0,\n",
       " 1,\n",
       " 8,\n",
       " 4,\n",
       " 2,\n",
       " 3,\n",
       " 6,\n",
       " 0,\n",
       " 7,\n",
       " 0,\n",
       " 7,\n",
       " 5,\n",
       " 3,\n",
       " 1,\n",
       " 8,\n",
       " 1,\n",
       " 3,\n",
       " 6,\n",
       " 0,\n",
       " 4,\n",
       " 3,\n",
       " 4,\n",
       " 1,\n",
       " 7,\n",
       " 4,\n",
       " 7,\n",
       " 9,\n",
       " 1,\n",
       " 5,\n",
       " 6,\n",
       " 6,\n",
       " 6,\n",
       " 3,\n",
       " 9,\n",
       " 1,\n",
       " 0,\n",
       " 8,\n",
       " 2,\n",
       " 9,\n",
       " 4,\n",
       " 4,\n",
       " 6,\n",
       " 2,\n",
       " 4,\n",
       " 4,\n",
       " 6,\n",
       " 0,\n",
       " 1,\n",
       " 1,\n",
       " 8,\n",
       " 4,\n",
       " 0,\n",
       " 9,\n",
       " 7,\n",
       " 6,\n",
       " 1,\n",
       " 8,\n",
       " 3,\n",
       " 7,\n",
       " 8,\n",
       " 2,\n",
       " 8,\n",
       " 4,\n",
       " 0,\n",
       " 0,\n",
       " 4,\n",
       " 8,\n",
       " 2,\n",
       " 8,\n",
       " 8]"
      ]
     },
     "execution_count": 7,
     "metadata": {},
     "output_type": "execute_result"
    }
   ],
   "source": [
    "random_numbers = [np.random.randint(0, 10) for x in range(100)]\n",
    "random_numbers"
   ]
  },
  {
   "cell_type": "code",
   "execution_count": 8,
   "id": "bc190bbb-4759-4907-9772-dc0fe760dbfe",
   "metadata": {},
   "outputs": [
    {
     "data": {
      "text/plain": [
       "100"
      ]
     },
     "execution_count": 8,
     "metadata": {},
     "output_type": "execute_result"
    }
   ],
   "source": [
    "len(random_numbers)"
   ]
  },
  {
   "cell_type": "markdown",
   "id": "c3c4f897-5e32-4706-9d31-7fff668f2433",
   "metadata": {},
   "source": [
    "# Functional Programming"
   ]
  },
  {
   "cell_type": "markdown",
   "id": "a1601d05-cb1a-4ce0-8e4c-5fe7f58414b2",
   "metadata": {},
   "source": [
    "storing functions as variables, chaining functions, etc."
   ]
  },
  {
   "cell_type": "markdown",
   "id": "c846541c-f645-43cb-acde-63920d40253e",
   "metadata": {},
   "source": [
    "# Lambda Functions"
   ]
  },
  {
   "cell_type": "code",
   "execution_count": null,
   "id": "7ecefb32-3dce-4a15-a4e2-7ce4e1aa5770",
   "metadata": {},
   "outputs": [],
   "source": [
    "lambda x, y : f(x) if (x>y) else y"
   ]
  }
 ],
 "metadata": {
  "kernelspec": {
   "display_name": "BINF",
   "language": "python",
   "name": "binf"
  },
  "language_info": {
   "codemirror_mode": {
    "name": "ipython",
    "version": 3
   },
   "file_extension": ".py",
   "mimetype": "text/x-python",
   "name": "python",
   "nbconvert_exporter": "python",
   "pygments_lexer": "ipython3",
   "version": "3.11.5"
  }
 },
 "nbformat": 4,
 "nbformat_minor": 5
}
