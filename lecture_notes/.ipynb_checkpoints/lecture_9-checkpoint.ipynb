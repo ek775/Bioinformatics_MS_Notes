{
 "cells": [
  {
   "cell_type": "markdown",
   "id": "97c62725-752a-494b-97f7-b72013e415e9",
   "metadata": {},
   "source": [
    "# Exercises 9/18/2023"
   ]
  },
  {
   "cell_type": "code",
   "execution_count": null,
   "id": "5911f783-3f9d-426d-847b-0910e006f26d",
   "metadata": {},
   "outputs": [],
   "source": []
  }
 ],
 "metadata": {
  "kernelspec": {
   "display_name": "BINF",
   "language": "python",
   "name": "binf"
  },
  "language_info": {
   "codemirror_mode": {
    "name": "ipython",
    "version": 3
   },
   "file_extension": ".py",
   "mimetype": "text/x-python",
   "name": "python",
   "nbconvert_exporter": "python",
   "pygments_lexer": "ipython3",
   "version": "3.11.5"
  }
 },
 "nbformat": 4,
 "nbformat_minor": 5
}
