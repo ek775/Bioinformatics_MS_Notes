{
 "cells": [
  {
   "cell_type": "markdown",
   "id": "b2705b15",
   "metadata": {},
   "source": [
    "# Biomedical Text Mining"
   ]
  },
  {
   "cell_type": "code",
   "execution_count": null,
   "id": "a793ca5d",
   "metadata": {},
   "outputs": [],
   "source": []
  }
 ],
 "metadata": {
  "kernelspec": {
   "display_name": "BINF",
   "language": "python",
   "name": "binf"
  },
  "language_info": {
   "codemirror_mode": {
    "name": "ipython",
    "version": 3
   },
   "file_extension": ".py",
   "mimetype": "text/x-python",
   "name": "python",
   "nbconvert_exporter": "python",
   "pygments_lexer": "ipython3",
   "version": "3.11.5"
  }
 },
 "nbformat": 4,
 "nbformat_minor": 5
}
