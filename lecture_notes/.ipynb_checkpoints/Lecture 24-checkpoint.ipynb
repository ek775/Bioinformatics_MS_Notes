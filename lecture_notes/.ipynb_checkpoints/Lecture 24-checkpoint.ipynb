{
 "cells": [
  {
   "cell_type": "markdown",
   "id": "d75c6f0e",
   "metadata": {},
   "source": [
    "# Object Relational Mappers & SQLObject I"
   ]
  },
  {
   "cell_type": "markdown",
   "id": "dba7a829",
   "metadata": {},
   "source": [
    "- Object Relational Mappers turn SQL queries into objects\n",
    "- Saves development time @ potential cost of compute time\n",
    "- SQLObject is one of many"
   ]
  },
  {
   "cell_type": "code",
   "execution_count": null,
   "id": "021aa197",
   "metadata": {},
   "outputs": [],
   "source": [
    "#general pattern for usage\n",
    "dbfile='world.db3'\n",
    "conn_str = 'sqlite:'+os.path.abspath(dbfile)\n",
    "sqlhub.processConnection = connectionForURI(conn_str)\n",
    "class Some_Query(SQLObject):\n",
    "    attr = some_column()\n",
    "    attr2 = some_column2()\n",
    "    etc = et_cet()"
   ]
  },
  {
   "cell_type": "code",
   "execution_count": null,
   "id": "906d8373",
   "metadata": {},
   "outputs": [],
   "source": [
    "#initialize the table\n",
    "Some_Query.createTable()\n",
    "c = Some_Query(\"\"\"attributes and values to add entries to database\"\"\")\n",
    "Some_Query.select() #similar to SELECT in SQL"
   ]
  }
 ],
 "metadata": {
  "kernelspec": {
   "display_name": "BINF",
   "language": "python",
   "name": "binf"
  },
  "language_info": {
   "codemirror_mode": {
    "name": "ipython",
    "version": 3
   },
   "file_extension": ".py",
   "mimetype": "text/x-python",
   "name": "python",
   "nbconvert_exporter": "python",
   "pygments_lexer": "ipython3",
   "version": "3.11.5"
  }
 },
 "nbformat": 4,
 "nbformat_minor": 5
}
