{
 "cells": [
  {
   "cell_type": "markdown",
   "id": "ceb023a3",
   "metadata": {},
   "source": [
    "# Biomedical Text Mining"
   ]
  },
  {
   "cell_type": "code",
   "execution_count": null,
   "id": "094d666c",
   "metadata": {},
   "outputs": [],
   "source": []
  }
 ],
 "metadata": {
  "kernelspec": {
   "display_name": "BINF",
   "language": "python",
   "name": "binf"
  },
  "language_info": {
   "codemirror_mode": {
    "name": "ipython",
    "version": 3
   },
   "file_extension": ".py",
   "mimetype": "text/x-python",
   "name": "python",
   "nbconvert_exporter": "python",
   "pygments_lexer": "ipython3",
   "version": "3.11.5"
  }
 },
 "nbformat": 4,
 "nbformat_minor": 5
}
