{
 "cells": [
  {
   "cell_type": "markdown",
   "id": "4c38b3a8",
   "metadata": {},
   "source": [
    "# Object Relational Mappers & SQLObject I"
   ]
  },
  {
   "cell_type": "markdown",
   "id": "2c403577",
   "metadata": {},
   "source": []
  }
 ],
 "metadata": {
  "kernelspec": {
   "display_name": "BINF",
   "language": "python",
   "name": "binf"
  },
  "language_info": {
   "codemirror_mode": {
    "name": "ipython",
    "version": 3
   },
   "file_extension": ".py",
   "mimetype": "text/x-python",
   "name": "python",
   "nbconvert_exporter": "python",
   "pygments_lexer": "ipython3",
   "version": "3.11.5"
  }
 },
 "nbformat": 4,
 "nbformat_minor": 5
}
