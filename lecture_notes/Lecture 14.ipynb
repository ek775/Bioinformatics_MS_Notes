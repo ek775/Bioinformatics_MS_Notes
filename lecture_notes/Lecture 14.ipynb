{
 "cells": [
  {
   "cell_type": "markdown",
   "id": "ffc0f35c-515f-4f33-9fb4-199484091430",
   "metadata": {},
   "source": [
    "# XML and Element Trees"
   ]
  },
  {
   "cell_type": "markdown",
   "id": "1eca8cad-4df9-4231-a8e9-d11a6c7d2eeb",
   "metadata": {},
   "source": [
    "- Roughly equivalent to JSON / prescursor of\n",
    "- Many Bioinformatics databases have standardized on XML\n",
    "- \"eXtensible Markup Language\" (XML)\n",
    "- Python module \"ElementTree\""
   ]
  },
  {
   "cell_type": "markdown",
   "id": "ca78e15c-af71-427e-9e7d-eeb1455088d2",
   "metadata": {},
   "source": [
    "Compared to uniprot flat-file format, much more explicit and can specify data types"
   ]
  },
  {
   "cell_type": "code",
   "execution_count": 4,
   "id": "71e2f1a8-a56e-403e-ab1d-3b901156507c",
   "metadata": {},
   "outputs": [],
   "source": [
    "import xml.etree.ElementTree as et"
   ]
  },
  {
   "cell_type": "markdown",
   "id": "22098a46-9068-4026-9b46-a59cd3aa12f8",
   "metadata": {},
   "source": [
    "Parsing with ElementTree creates a file object with elements as callable attributes:"
   ]
  },
  {
   "cell_type": "code",
   "execution_count": null,
   "id": "7a13e11d-0040-4e39-805b-92650ce05c8b",
   "metadata": {},
   "outputs": [],
   "source": [
    "document = et.parse(\"some_file\")"
   ]
  },
  {
   "cell_type": "markdown",
   "id": "c1006e05-e73a-4e63-a16e-cfd394364d8f",
   "metadata": {},
   "source": [
    "Each element type is callable base on tags:\n",
    "- <title>some_title</title> = document.find(\"title\")"
   ]
  },
  {
   "cell_type": "code",
   "execution_count": null,
   "id": "0f34f00d-4add-4800-ba7c-124e8822d522",
   "metadata": {},
   "outputs": [],
   "source": []
  }
 ],
 "metadata": {
  "kernelspec": {
   "display_name": "BINF",
   "language": "python",
   "name": "binf"
  },
  "language_info": {
   "codemirror_mode": {
    "name": "ipython",
    "version": 3
   },
   "file_extension": ".py",
   "mimetype": "text/x-python",
   "name": "python",
   "nbconvert_exporter": "python",
   "pygments_lexer": "ipython3",
   "version": "3.11.5"
  }
 },
 "nbformat": 4,
 "nbformat_minor": 5
}
