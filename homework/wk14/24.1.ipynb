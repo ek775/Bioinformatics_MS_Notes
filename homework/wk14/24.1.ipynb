{
 "cells": [
  {
   "cell_type": "markdown",
   "metadata": {},
   "source": [
    "# 24.1"
   ]
  },
  {
   "cell_type": "markdown",
   "metadata": {},
   "source": [
    "Write a python program using SQLObject to lookup the scientific name for a user-supplied organism name."
   ]
  },
  {
   "cell_type": "code",
   "execution_count": 1,
   "metadata": {},
   "outputs": [],
   "source": [
    "from sqlobject import *\n",
    "import os.path\n",
    "\n",
    "generic_name = 'human'\n",
    "taxa_id = 9606"
   ]
  },
  {
   "cell_type": "code",
   "execution_count": 2,
   "metadata": {},
   "outputs": [],
   "source": [
    "db = 'small_taxa.db3'\n",
    "conn_str = os.path.abspath(db)\n",
    "conn = 'sqlite:' + conn_str\n",
    "\n",
    "sqlhub.processConnection = connectionForURI(conn)\n",
    "\n",
    "class Taxonomy(SQLObject):\n",
    "    class sqlmeta:\n",
    "        fromDatabase = True\n",
    "\n",
    "class Name(SQLObject):\n",
    "    class sqlmeta:\n",
    "        fromDatabase = True"
   ]
  },
  {
   "cell_type": "code",
   "execution_count": 3,
   "metadata": {},
   "outputs": [
    {
     "name": "stdout",
     "output_type": "stream",
     "text": [
      " 1/Select  :  SELECT name.id, name.taxonomy_id, name.name, name.name_class FROM name WHERE (((name.name) = ('human')) OR (name.name LIKE ('%human%')))\n",
      " 1/QueryR  :  SELECT name.id, name.taxonomy_id, name.name, name.name_class FROM name WHERE (((name.name) = ('human')) OR (name.name LIKE ('%human%')))\n",
      " 1/COMMIT  :  auto\n"
     ]
    },
    {
     "data": {
      "text/plain": [
       "[<Name 377 taxonomyID=141 name='human' nameClass=\"'genbank common n...'\">]"
      ]
     },
     "execution_count": 3,
     "metadata": {},
     "output_type": "execute_result"
    }
   ],
   "source": [
    "Name._connection.debug = True\n",
    "name_schema = Name.select(\n",
    "                OR(Name.q.name == f\"{generic_name}\",\n",
    "                    LIKE(Name.q.name, f\"%{generic_name}%\")))\n",
    "list(name_schema)"
   ]
  },
  {
   "cell_type": "code",
   "execution_count": 4,
   "metadata": {},
   "outputs": [
    {
     "name": "stdout",
     "output_type": "stream",
     "text": [
      " 1/Select  :  SELECT taxonomy.id, taxonomy.taxid, taxonomy.scientific_name, taxonomy.rank, taxonomy.parent_id FROM taxonomy WHERE ((taxonomy.taxid) = (9606))\n",
      " 1/QueryR  :  SELECT taxonomy.id, taxonomy.taxid, taxonomy.scientific_name, taxonomy.rank, taxonomy.parent_id FROM taxonomy WHERE ((taxonomy.taxid) = (9606))\n",
      " 1/COMMIT  :  auto\n"
     ]
    },
    {
     "data": {
      "text/plain": [
       "[<Taxonomy 141 taxid=9606 scientificName='Homo sapiens' rank='species' parentID=140>]"
      ]
     },
     "execution_count": 4,
     "metadata": {},
     "output_type": "execute_result"
    }
   ],
   "source": [
    "Taxonomy._connection.debug = True\n",
    "taxa_schema = Taxonomy.select(Taxonomy.q.taxid==taxa_id)\n",
    "list(taxa_schema)"
   ]
  },
  {
   "cell_type": "code",
   "execution_count": null,
   "metadata": {},
   "outputs": [],
   "source": [
    "# find taxonomic id based on generic name(s)\n",
    "name_search = Name.select(\n",
    "                OR(Name.q.name == f\"{generic_name}\",\n",
    "                    LIKE(Name.q.name, f\"%{generic_name}%\")))\n",
    "gen_names = list(name_search)\n",
    "\n",
    "results = []\n",
    "for n in gen_names:\n",
    "    print(type(n))\n",
    "    taxa_id = n.q.taxonomy_id\n",
    "    taxa_search = Taxonomy.select(Taxonomy.q.taxid==taxa_id)\n",
    "    for result in taxa_search:\n",
    "        print(result)\n",
    "        results.append(result.scientific_name)"
   ]
  }
 ],
 "metadata": {
  "kernelspec": {
   "display_name": "BINF",
   "language": "python",
   "name": "python3"
  },
  "language_info": {
   "codemirror_mode": {
    "name": "ipython",
    "version": 3
   },
   "file_extension": ".py",
   "mimetype": "text/x-python",
   "name": "python",
   "nbconvert_exporter": "python",
   "pygments_lexer": "ipython3",
   "version": "3.11.5"
  }
 },
 "nbformat": 4,
 "nbformat_minor": 2
}
